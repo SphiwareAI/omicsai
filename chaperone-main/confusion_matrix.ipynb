{
 "cells": [
  {
   "cell_type": "markdown",
   "metadata": {},
   "source": [
    "# 1. Importing Libraries"
   ]
  },
  {
   "cell_type": "code",
   "execution_count": 3,
   "metadata": {},
   "outputs": [],
   "source": [
    "#!/usr/bin/env python3\n",
    "#-*- coding:utf-8 -*-\n",
    "\n",
    "#for array calcutions\n",
    "import numpy as np\n",
    "#for web framwork \n",
    "from flask import Flask, request, jsonify, render_template, send_from_directory\n",
    "#for serialising and loading the model\n",
    "import pickle \n",
    "#for convering corpus into frequency matrix\n",
    "from sklearn.feature_extraction.text import TfidfVectorizer\n",
    "#for visualisation\n",
    "import matplotlib.pyplot as plt \n",
    "import seaborn as sns \n",
    "#split the data\n",
    "from sklearn.model_selection import train_test_split\n",
    "#for perfomance measure\n",
    "from sklearn.metrics import ConfusionMatrixDisplay, confusion_matrix, accuracy_score\n",
    "\n",
    "sns.set_style('darkgrid')"
   ]
  },
  {
   "cell_type": "markdown",
   "metadata": {},
   "source": [
    "# 2. Data Extraction and Processing\n",
    "\n",
    "- Task 1: Load a raw Fastq file, and generate a processed file and split that file into k-mers.\n",
    "- Task 2: Percy applies bio-processing techniques on the dataset."
   ]
  },
  {
   "cell_type": "markdown",
   "metadata": {},
   "source": [
    "# 3. Biological Data - Example"
   ]
  },
  {
   "cell_type": "code",
   "execution_count": 4,
   "metadata": {},
   "outputs": [],
   "source": [
    "#define the synthetic data with labels  \n",
    "\n",
    "sequences = [\n",
    "    \"atg cgt tac caa gtc agg tct gtg aac tag\",\n",
    "    \"ggc ttt agg cca act gtc tac gat cac acg\",\n",
    "    \"ttc agg tag tct atc gcg gta gac tgt tac\",\n",
    "    \"act gga tga cta tcg cgt aca tca gta gag\",\n",
    "    \"tta gct atc agt agc ttg tgt tct cca atc\",\n",
    "    \"gtc cga gac tgc ctc aag ctt gat tac atg\",\n",
    "    \"cat gct aac tac gta cga tgc ctc acg tgg\",\n",
    "    \"tac gat cgt acg tgc cta act gga tct atg\",\n",
    "    \"gga tct gct tct cga tgt tac atg gca cgt\",\n",
    "    \"ttg cgt tac aca gga cgt ttc tct atg gct\",\n",
    "    \"cga tct gct tac gct tac aca gga tgc tct\",\n",
    "    \"tac gga cgt ttc tct atg gct cga tct gct\",\n",
    "    \"tac gct tac aca gga tgc tct tac gga cgt\",\n",
    "    \"ttc tct atg gct cga tct gct tac gct tac\",\n",
    "    \"aca gga tgc tct tac gga cgt ttc tct atg\",\n",
    "]\n",
    "\n",
    "labels = [2, 1, 4, 0, 3, 1, 2, 4, 0, 3, 1, 2, 4, 0, 3]\n"
   ]
  },
  {
   "cell_type": "code",
   "execution_count": 5,
   "metadata": {},
   "outputs": [],
   "source": [
    "#split the data\n",
    "X_train, X_test, y_train, y_test = train_test_split(sequences, labels,\n",
    "                                                    test_size = 0.5,\n",
    "                                                    stratify= labels)"
   ]
  },
  {
   "cell_type": "code",
   "execution_count": 6,
   "metadata": {},
   "outputs": [
    {
     "data": {
      "text/plain": [
       "['tac gat cgt acg tgc cta act gga tct atg',\n",
       " 'ttc agg tag tct atc gcg gta gac tgt tac',\n",
       " 'ttc tct atg gct cga tct gct tac gct tac',\n",
       " 'ggc ttt agg cca act gtc tac gat cac acg',\n",
       " 'tta gct atc agt agc ttg tgt tct cca atc',\n",
       " 'atg cgt tac caa gtc agg tct gtg aac tag',\n",
       " 'act gga tga cta tcg cgt aca tca gta gag']"
      ]
     },
     "execution_count": 6,
     "metadata": {},
     "output_type": "execute_result"
    }
   ],
   "source": [
    "X_train"
   ]
  },
  {
   "cell_type": "markdown",
   "metadata": {},
   "source": [
    "#### Transform training data and train model "
   ]
  },
  {
   "cell_type": "code",
   "execution_count": 5,
   "metadata": {},
   "outputs": [],
   "source": [
    "#create a frequency matrix to vectorise the sequences \n",
    "vectorizer = TfidfVectorizer(analyzer='word', tokenizer = lambda x: x.split())"
   ]
  },
  {
   "cell_type": "code",
   "execution_count": 6,
   "metadata": {},
   "outputs": [
    {
     "name": "stderr",
     "output_type": "stream",
     "text": [
      "c:\\Users\\mpumi\\AppData\\Local\\Programs\\Python\\Python39\\lib\\site-packages\\sklearn\\feature_extraction\\text.py:516: UserWarning: The parameter 'token_pattern' will not be used since 'tokenizer' is not None'\n",
      "  warnings.warn(\n"
     ]
    },
    {
     "data": {
      "text/plain": [
       "TfidfVectorizer(tokenizer=<function <lambda> at 0x0000020C63532700>)"
      ]
     },
     "execution_count": 6,
     "metadata": {},
     "output_type": "execute_result"
    }
   ],
   "source": [
    "#tokenize the words and create frequency matrix \n",
    "vectorizer.fit(X_train)"
   ]
  },
  {
   "cell_type": "code",
   "execution_count": 7,
   "metadata": {},
   "outputs": [
    {
     "name": "stdout",
     "output_type": "stream",
     "text": [
      "Vocabulary: {'tac': 20, 'gct': 15, 'aca': 1, 'gga': 16, 'tgc': 23, 'tct': 22, 'cgt': 13, 'tta': 25, 'atc': 7, 'agt': 6, 'agc': 4, 'ttg': 27, 'tgt': 24, 'cca': 11, 'cga': 12, 'ttc': 26, 'atg': 8, 'caa': 9, 'gtc': 18, 'agg': 5, 'gtg': 19, 'aac': 0, 'tag': 21, 'ggc': 17, 'ttt': 28, 'act': 3, 'gat': 14, 'cac': 10, 'acg': 2}\n",
      "Our vocabulary has 29 tokens.\n"
     ]
    }
   ],
   "source": [
    "#summary \n",
    "print(\"Vocabulary: {}\".format(vectorizer.vocabulary_))\n",
    "print(\"Our vocabulary has {} tokens.\".format(len(vectorizer.vocabulary_)))"
   ]
  },
  {
   "cell_type": "code",
   "execution_count": 8,
   "metadata": {},
   "outputs": [],
   "source": [
    "#extract frequency matrix \n",
    "X_ = vectorizer.transform(X_train)"
   ]
  },
  {
   "cell_type": "code",
   "execution_count": 9,
   "metadata": {},
   "outputs": [
    {
     "data": {
      "text/plain": [
       "<7x29 sparse matrix of type '<class 'numpy.float64'>'\n",
       "\twith 57 stored elements in Compressed Sparse Row format>"
      ]
     },
     "execution_count": 9,
     "metadata": {},
     "output_type": "execute_result"
    }
   ],
   "source": [
    "X_"
   ]
  },
  {
   "cell_type": "code",
   "execution_count": 10,
   "metadata": {},
   "outputs": [
    {
     "name": "stderr",
     "output_type": "stream",
     "text": [
      "c:\\Users\\mpumi\\AppData\\Local\\Programs\\Python\\Python39\\lib\\site-packages\\sklearn\\base.py:329: UserWarning: Trying to unpickle estimator LogisticRegression from version 1.2.1 when using version 1.0.2. This might lead to breaking code or invalid results. Use at your own risk. For more info please refer to:\n",
      "https://scikit-learn.org/stable/modules/model_persistence.html#security-maintainability-limitations\n",
      "  warnings.warn(\n"
     ]
    }
   ],
   "source": [
    "#load model \n",
    "with open('lr_tf_idf_multiclass_SMOTE.sav','rb') as f: \n",
    "    model_sav = pickle.load(f)"
   ]
  },
  {
   "cell_type": "code",
   "execution_count": 11,
   "metadata": {},
   "outputs": [],
   "source": [
    "#inference \n",
    "# y_pred = model_sav.predict(X)"
   ]
  },
  {
   "cell_type": "markdown",
   "metadata": {},
   "source": [
    "**Comment**: The trained model requires 8,386 features which should be obtained from the Fastq data, which was not present as the time of the writing of this code. \n",
    "\n",
    "Instead, we will use a vanilla Multinomial Naive Bayes model as a test case."
   ]
  },
  {
   "cell_type": "code",
   "execution_count": 12,
   "metadata": {},
   "outputs": [],
   "source": [
    "#using Naive Bayes\n",
    "from sklearn.naive_bayes import MultinomialNB"
   ]
  },
  {
   "cell_type": "code",
   "execution_count": 13,
   "metadata": {},
   "outputs": [],
   "source": [
    "model_nb = MultinomialNB()"
   ]
  },
  {
   "cell_type": "code",
   "execution_count": 14,
   "metadata": {},
   "outputs": [
    {
     "data": {
      "text/plain": [
       "MultinomialNB()"
      ]
     },
     "execution_count": 14,
     "metadata": {},
     "output_type": "execute_result"
    }
   ],
   "source": [
    "#train the model \n",
    "model_nb.fit(X_, y_train)"
   ]
  },
  {
   "cell_type": "code",
   "execution_count": 15,
   "metadata": {},
   "outputs": [],
   "source": [
    "#transform X_test\n",
    "X_t = vectorizer.transform(X_test)"
   ]
  },
  {
   "cell_type": "code",
   "execution_count": 16,
   "metadata": {},
   "outputs": [],
   "source": [
    "y_pred = model_nb.predict(X_t)"
   ]
  },
  {
   "cell_type": "markdown",
   "metadata": {},
   "source": [
    "# 4. Create a Confusion Matrix"
   ]
  },
  {
   "cell_type": "code",
   "execution_count": 20,
   "metadata": {},
   "outputs": [],
   "source": [
    "# Compute confusion matrix\n",
    "cm = confusion_matrix(y_test, y_pred, normalize = 'true')"
   ]
  },
  {
   "cell_type": "code",
   "execution_count": 23,
   "metadata": {},
   "outputs": [
    {
     "data": {
      "image/png": "[encoded data removed]",
      "text/plain": [
       "<Figure size 720x504 with 2 Axes>"
      ]
     },
     "metadata": {},
     "output_type": "display_data"
    }
   ],
   "source": [
    "#create confusion matrix via seaborn \n",
    "plt.figure(figsize=(10,7))\n",
    "sns.heatmap(cm, annot = True, fmt = '.1%', cmap = 'coolwarm')\n",
    "\n",
    "plt.title('Confusiion Matrix')\n",
    "plt.xlabel('Predicted Classes')\n",
    "plt.ylabel('Actual Classes')\n",
    "plt.savefig('confusion_matrix.png')\n",
    "plt.show()\n"
   ]
  }
 ],
 "metadata": {
  "kernelspec": {
   "display_name": "Python 3 (ipykernel)",
   "language": "python",
   "name": "python3"
  },
  "language_info": {
   "codemirror_mode": {
    "name": "ipython",
    "version": 3
   },
   "file_extension": ".py",
   "mimetype": "text/x-python",
   "name": "python",
   "nbconvert_exporter": "python",
   "pygments_lexer": "ipython3",
   "version": "3.8.17"
  }
 },
 "nbformat": 4,
 "nbformat_minor": 2
}
