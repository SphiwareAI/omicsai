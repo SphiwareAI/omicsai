{
 "cells": [
  {
   "cell_type": "markdown",
   "metadata": {},
   "source": [
    "# 1. Importing Libraries"
   ]
  },
  {
   "cell_type": "code",
   "execution_count": 6,
   "metadata": {},
   "outputs": [],
   "source": [
    "#!/usr/bin/env python3\n",
    "#-*- coding:utf-8 -*-\n",
    "\n",
    "#for array calcutions\n",
    "import numpy as np\n",
    "import pandas as pd\n",
    "#for serialising and loading the model\n",
    "import pickle \n",
    "#for convering corpus into frequency matrix\n",
    "from sklearn.feature_extraction.text import TfidfVectorizer\n",
    "#for visualisation\n",
    "import matplotlib.pyplot as plt \n",
    "import seaborn as sns \n",
    "#for perfomance measure\n",
    "from sklearn.metrics import confusion_matrix, accuracy_score\n",
    "\n",
    "sns.set_style('darkgrid')"
   ]
  },
  {
   "cell_type": "markdown",
   "metadata": {},
   "source": [
    "# 2. Data Extraction and Processing\n",
    "\n",
    "- Task 1: Load a raw Fastq file, and generate a processed file and split that file into k-mers.\n",
    "- Task 2: Percy applies bio-processing techniques on the dataset."
   ]
  },
  {
   "cell_type": "markdown",
   "metadata": {},
   "source": [
    "# 3. Biological Data - Example"
   ]
  },
  {
   "cell_type": "code",
   "execution_count": 7,
   "metadata": {},
   "outputs": [],
   "source": [
    "#define the synthetic data with labels  \n",
    "\n",
    "sequences = [\n",
    "    \"atg cgt tac caa gtc agg tct gtg aac tag\",\n",
    "    \"ggc ttt agg cca act gtc tac gat cac acg\",\n",
    "    \"ttc agg tag tct atc gcg gta gac tgt tac\",\n",
    "    \"act gga tga cta tcg cgt aca tca gta gag\",\n",
    "    \"tta gct atc agt agc ttg tgt tct cca atc\",\n",
    "    \"gtc cga gac tgc ctc aag ctt gat tac atg\",\n",
    "    \"cat gct aac tac gta cga tgc ctc acg tgg\",\n",
    "    \"tac gat cgt acg tgc cta act gga tct atg\",\n",
    "    \"gga tct gct tct cga tgt tac atg gca cgt\",\n",
    "    \"ttg cgt tac aca gga cgt ttc tct atg gct\",\n",
    "    \"cga tct gct tac gct tac aca gga tgc tct\",\n",
    "    \"tac gga cgt ttc tct atg gct cga tct gct\",\n",
    "    \"tac gct tac aca gga tgc tct tac gga cgt\",\n",
    "    \"ttc tct atg gct cga tct gct tac gct tac\",\n",
    "    \"aca gga tgc tct tac gga cgt ttc tct atg\",\n",
    "]\n",
    "\n",
    "labels = [2, 1, 4, 0, 3, 1, 2, 4, 0, 3, 1, 2, 4, 0, 3]\n"
   ]
  },
  {
   "cell_type": "code",
   "execution_count": 8,
   "metadata": {},
   "outputs": [],
   "source": [
    "data = pd.read_csv('protein_sequences.csv')"
   ]
  },
  {
   "cell_type": "code",
   "execution_count": 9,
   "metadata": {},
   "outputs": [
    {
     "data": {
      "text/html": [
       "<div>\n",
       "<style scoped>\n",
       "    .dataframe tbody tr th:only-of-type {\n",
       "        vertical-align: middle;\n",
       "    }\n",
       "\n",
       "    .dataframe tbody tr th {\n",
       "        vertical-align: top;\n",
       "    }\n",
       "\n",
       "    .dataframe thead th {\n",
       "        text-align: right;\n",
       "    }\n",
       "</style>\n",
       "<table border=\"1\" class=\"dataframe\">\n",
       "  <thead>\n",
       "    <tr style=\"text-align: right;\">\n",
       "      <th></th>\n",
       "      <th>Protein Sequence</th>\n",
       "      <th>Label</th>\n",
       "    </tr>\n",
       "  </thead>\n",
       "  <tbody>\n",
       "    <tr>\n",
       "      <th>0</th>\n",
       "      <td>HYRMIHWMMEIDCNGCANNTLSRRWNYDFWHKHVEQVKCYRHNIRD...</td>\n",
       "      <td>ligases</td>\n",
       "    </tr>\n",
       "    <tr>\n",
       "      <th>1</th>\n",
       "      <td>DNIDADFRQDAFQHKRRLPWHTYEFHPRMEPHWCLPGNNYMHAAYP...</td>\n",
       "      <td>ligases</td>\n",
       "    </tr>\n",
       "    <tr>\n",
       "      <th>2</th>\n",
       "      <td>DWYHYKAIHVIAMVLDHSSYTCASNFFKKDWSSDYAYMTIEGIYDS...</td>\n",
       "      <td>ligases</td>\n",
       "    </tr>\n",
       "    <tr>\n",
       "      <th>3</th>\n",
       "      <td>LDIQVRCLCTIAKMSHLDVPHEPYAIQSQNWRCCWTYLGRMFAINN...</td>\n",
       "      <td>ligases</td>\n",
       "    </tr>\n",
       "    <tr>\n",
       "      <th>4</th>\n",
       "      <td>YLWAFPESSCTYNVDAAWMFNDAAILMNPNQCWVDTILCWKHEVPM...</td>\n",
       "      <td>ligases</td>\n",
       "    </tr>\n",
       "    <tr>\n",
       "      <th>...</th>\n",
       "      <td>...</td>\n",
       "      <td>...</td>\n",
       "    </tr>\n",
       "    <tr>\n",
       "      <th>995</th>\n",
       "      <td>VIYHLARLDKPGWCNMPDTKRREQQQVDGIWCFKMSYCHFAEKRVL...</td>\n",
       "      <td>oxidoreductase</td>\n",
       "    </tr>\n",
       "    <tr>\n",
       "      <th>996</th>\n",
       "      <td>ETYASMMTESNFPPDKVVRRHKSCYPEQKQMYPTFEPNDETVRHKQ...</td>\n",
       "      <td>oxidoreductase</td>\n",
       "    </tr>\n",
       "    <tr>\n",
       "      <th>997</th>\n",
       "      <td>MYGNPHKDDSVPKGRKVYPAGWANSEELQYVDGVKPWLSWGCSYQA...</td>\n",
       "      <td>oxidoreductase</td>\n",
       "    </tr>\n",
       "    <tr>\n",
       "      <th>998</th>\n",
       "      <td>HKTWPEKMPSLEDHNVFTFYNSSHYPFWYSLNGWCIYKDHDMNPEC...</td>\n",
       "      <td>oxidoreductase</td>\n",
       "    </tr>\n",
       "    <tr>\n",
       "      <th>999</th>\n",
       "      <td>LNMFFWRHEHHLEVGACDHCQFFSRSKICLVVWFAMMDDSYRPLWL...</td>\n",
       "      <td>oxidoreductase</td>\n",
       "    </tr>\n",
       "  </tbody>\n",
       "</table>\n",
       "<p>1000 rows × 2 columns</p>\n",
       "</div>"
      ],
      "text/plain": [
       "                                      Protein Sequence           Label\n",
       "0    HYRMIHWMMEIDCNGCANNTLSRRWNYDFWHKHVEQVKCYRHNIRD...         ligases\n",
       "1    DNIDADFRQDAFQHKRRLPWHTYEFHPRMEPHWCLPGNNYMHAAYP...         ligases\n",
       "2    DWYHYKAIHVIAMVLDHSSYTCASNFFKKDWSSDYAYMTIEGIYDS...         ligases\n",
       "3    LDIQVRCLCTIAKMSHLDVPHEPYAIQSQNWRCCWTYLGRMFAINN...         ligases\n",
       "4    YLWAFPESSCTYNVDAAWMFNDAAILMNPNQCWVDTILCWKHEVPM...         ligases\n",
       "..                                                 ...             ...\n",
       "995  VIYHLARLDKPGWCNMPDTKRREQQQVDGIWCFKMSYCHFAEKRVL...  oxidoreductase\n",
       "996  ETYASMMTESNFPPDKVVRRHKSCYPEQKQMYPTFEPNDETVRHKQ...  oxidoreductase\n",
       "997  MYGNPHKDDSVPKGRKVYPAGWANSEELQYVDGVKPWLSWGCSYQA...  oxidoreductase\n",
       "998  HKTWPEKMPSLEDHNVFTFYNSSHYPFWYSLNGWCIYKDHDMNPEC...  oxidoreductase\n",
       "999  LNMFFWRHEHHLEVGACDHCQFFSRSKICLVVWFAMMDDSYRPLWL...  oxidoreductase\n",
       "\n",
       "[1000 rows x 2 columns]"
      ]
     },
     "execution_count": 9,
     "metadata": {},
     "output_type": "execute_result"
    }
   ],
   "source": [
    "data"
   ]
  },
  {
   "cell_type": "code",
   "execution_count": 11,
   "metadata": {},
   "outputs": [],
   "source": [
    "data['Protein Sequence'] = data['Protein Sequence'].str.lower().apply(lambda x: [x[i:i+3] for i in range(0, len(x), 3)])"
   ]
  },
  {
   "cell_type": "code",
   "execution_count": 14,
   "metadata": {},
   "outputs": [
    {
     "data": {
      "text/plain": [
       "array(['ligases', 'lyases', 'hydrolases', 'isomerase', 'translocase',\n",
       "       'transferases', 'non enzyme', 'oxidoreductase'], dtype=object)"
      ]
     },
     "execution_count": 14,
     "metadata": {},
     "output_type": "execute_result"
    }
   ],
   "source": [
    "data.Label.unique()"
   ]
  },
  {
   "cell_type": "code",
   "execution_count": 15,
   "metadata": {},
   "outputs": [],
   "source": [
    "# Create a mapping of unique labels to numerical values\n",
    "label_mapping = {label: i for i, label in enumerate(data['Label'].unique())}\n",
    "\n",
    "# Replace the labels in the DataFrame with numerical values\n",
    "data['Label'] = data['Label'].replace(label_mapping)"
   ]
  },
  {
   "cell_type": "code",
   "execution_count": 17,
   "metadata": {},
   "outputs": [
    {
     "data": {
      "text/plain": [
       "0      [hyr, mih, wmm, eid, cng, can, ntl, srr, wny, ...\n",
       "1      [dni, dad, frq, daf, qhk, rrl, pwh, tye, fhp, ...\n",
       "2      [dwy, hyk, aih, via, mvl, dhs, syt, cas, nff, ...\n",
       "3      [ldi, qvr, clc, tia, kms, hld, vph, epy, aiq, ...\n",
       "4      [ylw, afp, ess, cty, nvd, aaw, mfn, daa, ilm, ...\n",
       "                             ...                        \n",
       "995    [viy, hla, rld, kpg, wcn, mpd, tkr, req, qqv, ...\n",
       "996    [ety, asm, mte, snf, ppd, kvv, rrh, ksc, ype, ...\n",
       "997    [myg, nph, kdd, svp, kgr, kvy, pag, wan, see, ...\n",
       "998    [hkt, wpe, kmp, sle, dhn, vft, fyn, ssh, ypf, ...\n",
       "999    [lnm, ffw, rhe, hhl, evg, acd, hcq, ffs, rsk, ...\n",
       "Name: Protein Sequence, Length: 1000, dtype: object"
      ]
     },
     "execution_count": 17,
     "metadata": {},
     "output_type": "execute_result"
    }
   ],
   "source": [
    "data['Protein Sequence']"
   ]
  },
  {
   "cell_type": "code",
   "execution_count": 18,
   "metadata": {},
   "outputs": [],
   "source": [
    "sequences = data['Protein Sequence']\n",
    "labels = data['Label']"
   ]
  },
  {
   "cell_type": "code",
   "execution_count": null,
   "metadata": {},
   "outputs": [],
   "source": []
  },
  {
   "cell_type": "code",
   "execution_count": 19,
   "metadata": {},
   "outputs": [],
   "source": [
    "def tokenize(x):\n",
    "    return x.split()"
   ]
  },
  {
   "cell_type": "markdown",
   "metadata": {},
   "source": [
    "# 4. Create a Confusion Matrix"
   ]
  },
  {
   "cell_type": "code",
   "execution_count": 20,
   "metadata": {},
   "outputs": [
    {
     "name": "stderr",
     "output_type": "stream",
     "text": [
      "/Users/jamesjr/anaconda3/envs/Genomics/lib/python3.8/site-packages/sklearn/base.py:347: InconsistentVersionWarning: Trying to unpickle estimator MultinomialNB from version 1.0.2 when using version 1.3.0. This might lead to breaking code or invalid results. Use at your own risk. For more info please refer to:\n",
      "https://scikit-learn.org/stable/model_persistence.html#security-maintainability-limitations\n",
      "  warnings.warn(\n",
      "/Users/jamesjr/anaconda3/envs/Genomics/lib/python3.8/site-packages/sklearn/base.py:347: InconsistentVersionWarning: Trying to unpickle estimator TfidfTransformer from version 1.0.2 when using version 1.3.0. This might lead to breaking code or invalid results. Use at your own risk. For more info please refer to:\n",
      "https://scikit-learn.org/stable/model_persistence.html#security-maintainability-limitations\n",
      "  warnings.warn(\n",
      "/Users/jamesjr/anaconda3/envs/Genomics/lib/python3.8/site-packages/sklearn/base.py:347: InconsistentVersionWarning: Trying to unpickle estimator TfidfVectorizer from version 1.0.2 when using version 1.3.0. This might lead to breaking code or invalid results. Use at your own risk. For more info please refer to:\n",
      "https://scikit-learn.org/stable/model_persistence.html#security-maintainability-limitations\n",
      "  warnings.warn(\n"
     ]
    },
    {
     "ename": "AttributeError",
     "evalue": "'list' object has no attribute 'lower'",
     "output_type": "error",
     "traceback": [
      "\u001b[0;31m---------------------------------------------------------------------------\u001b[0m",
      "\u001b[0;31mAttributeError\u001b[0m                            Traceback (most recent call last)",
      "Cell \u001b[0;32mIn[20], line 15\u001b[0m\n\u001b[1;32m     12\u001b[0m y_test \u001b[38;5;241m=\u001b[39m labels\n\u001b[1;32m     14\u001b[0m \u001b[38;5;66;03m#transform X_test learned vocabulary\u001b[39;00m\n\u001b[0;32m---> 15\u001b[0m X_test_t \u001b[38;5;241m=\u001b[39m \u001b[43mvectorizer\u001b[49m\u001b[38;5;241;43m.\u001b[39;49m\u001b[43mtransform\u001b[49m\u001b[43m(\u001b[49m\u001b[43mX_test\u001b[49m\u001b[43m)\u001b[49m\n\u001b[1;32m     17\u001b[0m \u001b[38;5;66;03m#Performing prediction on test data (after tf-idf transformation)\u001b[39;00m\n\u001b[1;32m     18\u001b[0m y_pred \u001b[38;5;241m=\u001b[39m model\u001b[38;5;241m.\u001b[39mpredict(X_test_t)\n",
      "File \u001b[0;32m~/anaconda3/envs/Genomics/lib/python3.8/site-packages/sklearn/feature_extraction/text.py:2150\u001b[0m, in \u001b[0;36mTfidfVectorizer.transform\u001b[0;34m(self, raw_documents)\u001b[0m\n\u001b[1;32m   2133\u001b[0m \u001b[38;5;250m\u001b[39m\u001b[38;5;124;03m\"\"\"Transform documents to document-term matrix.\u001b[39;00m\n\u001b[1;32m   2134\u001b[0m \n\u001b[1;32m   2135\u001b[0m \u001b[38;5;124;03mUses the vocabulary and document frequencies (df) learned by fit (or\u001b[39;00m\n\u001b[0;32m   (...)\u001b[0m\n\u001b[1;32m   2146\u001b[0m \u001b[38;5;124;03m    Tf-idf-weighted document-term matrix.\u001b[39;00m\n\u001b[1;32m   2147\u001b[0m \u001b[38;5;124;03m\"\"\"\u001b[39;00m\n\u001b[1;32m   2148\u001b[0m check_is_fitted(\u001b[38;5;28mself\u001b[39m, msg\u001b[38;5;241m=\u001b[39m\u001b[38;5;124m\"\u001b[39m\u001b[38;5;124mThe TF-IDF vectorizer is not fitted\u001b[39m\u001b[38;5;124m\"\u001b[39m)\n\u001b[0;32m-> 2150\u001b[0m X \u001b[38;5;241m=\u001b[39m \u001b[38;5;28;43msuper\u001b[39;49m\u001b[43m(\u001b[49m\u001b[43m)\u001b[49m\u001b[38;5;241;43m.\u001b[39;49m\u001b[43mtransform\u001b[49m\u001b[43m(\u001b[49m\u001b[43mraw_documents\u001b[49m\u001b[43m)\u001b[49m\n\u001b[1;32m   2151\u001b[0m \u001b[38;5;28;01mreturn\u001b[39;00m \u001b[38;5;28mself\u001b[39m\u001b[38;5;241m.\u001b[39m_tfidf\u001b[38;5;241m.\u001b[39mtransform(X, copy\u001b[38;5;241m=\u001b[39m\u001b[38;5;28;01mFalse\u001b[39;00m)\n",
      "File \u001b[0;32m~/anaconda3/envs/Genomics/lib/python3.8/site-packages/sklearn/feature_extraction/text.py:1428\u001b[0m, in \u001b[0;36mCountVectorizer.transform\u001b[0;34m(self, raw_documents)\u001b[0m\n\u001b[1;32m   1425\u001b[0m \u001b[38;5;28mself\u001b[39m\u001b[38;5;241m.\u001b[39m_check_vocabulary()\n\u001b[1;32m   1427\u001b[0m \u001b[38;5;66;03m# use the same matrix-building strategy as fit_transform\u001b[39;00m\n\u001b[0;32m-> 1428\u001b[0m _, X \u001b[38;5;241m=\u001b[39m \u001b[38;5;28;43mself\u001b[39;49m\u001b[38;5;241;43m.\u001b[39;49m\u001b[43m_count_vocab\u001b[49m\u001b[43m(\u001b[49m\u001b[43mraw_documents\u001b[49m\u001b[43m,\u001b[49m\u001b[43m \u001b[49m\u001b[43mfixed_vocab\u001b[49m\u001b[38;5;241;43m=\u001b[39;49m\u001b[38;5;28;43;01mTrue\u001b[39;49;00m\u001b[43m)\u001b[49m\n\u001b[1;32m   1429\u001b[0m \u001b[38;5;28;01mif\u001b[39;00m \u001b[38;5;28mself\u001b[39m\u001b[38;5;241m.\u001b[39mbinary:\n\u001b[1;32m   1430\u001b[0m     X\u001b[38;5;241m.\u001b[39mdata\u001b[38;5;241m.\u001b[39mfill(\u001b[38;5;241m1\u001b[39m)\n",
      "File \u001b[0;32m~/anaconda3/envs/Genomics/lib/python3.8/site-packages/sklearn/feature_extraction/text.py:1270\u001b[0m, in \u001b[0;36mCountVectorizer._count_vocab\u001b[0;34m(self, raw_documents, fixed_vocab)\u001b[0m\n\u001b[1;32m   1268\u001b[0m \u001b[38;5;28;01mfor\u001b[39;00m doc \u001b[38;5;129;01min\u001b[39;00m raw_documents:\n\u001b[1;32m   1269\u001b[0m     feature_counter \u001b[38;5;241m=\u001b[39m {}\n\u001b[0;32m-> 1270\u001b[0m     \u001b[38;5;28;01mfor\u001b[39;00m feature \u001b[38;5;129;01min\u001b[39;00m \u001b[43manalyze\u001b[49m\u001b[43m(\u001b[49m\u001b[43mdoc\u001b[49m\u001b[43m)\u001b[49m:\n\u001b[1;32m   1271\u001b[0m         \u001b[38;5;28;01mtry\u001b[39;00m:\n\u001b[1;32m   1272\u001b[0m             feature_idx \u001b[38;5;241m=\u001b[39m vocabulary[feature]\n",
      "File \u001b[0;32m~/anaconda3/envs/Genomics/lib/python3.8/site-packages/sklearn/feature_extraction/text.py:110\u001b[0m, in \u001b[0;36m_analyze\u001b[0;34m(doc, analyzer, tokenizer, ngrams, preprocessor, decoder, stop_words)\u001b[0m\n\u001b[1;32m    108\u001b[0m \u001b[38;5;28;01melse\u001b[39;00m:\n\u001b[1;32m    109\u001b[0m     \u001b[38;5;28;01mif\u001b[39;00m preprocessor \u001b[38;5;129;01mis\u001b[39;00m \u001b[38;5;129;01mnot\u001b[39;00m \u001b[38;5;28;01mNone\u001b[39;00m:\n\u001b[0;32m--> 110\u001b[0m         doc \u001b[38;5;241m=\u001b[39m \u001b[43mpreprocessor\u001b[49m\u001b[43m(\u001b[49m\u001b[43mdoc\u001b[49m\u001b[43m)\u001b[49m\n\u001b[1;32m    111\u001b[0m     \u001b[38;5;28;01mif\u001b[39;00m tokenizer \u001b[38;5;129;01mis\u001b[39;00m \u001b[38;5;129;01mnot\u001b[39;00m \u001b[38;5;28;01mNone\u001b[39;00m:\n\u001b[1;32m    112\u001b[0m         doc \u001b[38;5;241m=\u001b[39m tokenizer(doc)\n",
      "File \u001b[0;32m~/anaconda3/envs/Genomics/lib/python3.8/site-packages/sklearn/feature_extraction/text.py:68\u001b[0m, in \u001b[0;36m_preprocess\u001b[0;34m(doc, accent_function, lower)\u001b[0m\n\u001b[1;32m     49\u001b[0m \u001b[38;5;250m\u001b[39m\u001b[38;5;124;03m\"\"\"Chain together an optional series of text preprocessing steps to\u001b[39;00m\n\u001b[1;32m     50\u001b[0m \u001b[38;5;124;03mapply to a document.\u001b[39;00m\n\u001b[1;32m     51\u001b[0m \n\u001b[0;32m   (...)\u001b[0m\n\u001b[1;32m     65\u001b[0m \u001b[38;5;124;03m    preprocessed string\u001b[39;00m\n\u001b[1;32m     66\u001b[0m \u001b[38;5;124;03m\"\"\"\u001b[39;00m\n\u001b[1;32m     67\u001b[0m \u001b[38;5;28;01mif\u001b[39;00m lower:\n\u001b[0;32m---> 68\u001b[0m     doc \u001b[38;5;241m=\u001b[39m \u001b[43mdoc\u001b[49m\u001b[38;5;241;43m.\u001b[39;49m\u001b[43mlower\u001b[49m()\n\u001b[1;32m     69\u001b[0m \u001b[38;5;28;01mif\u001b[39;00m accent_function \u001b[38;5;129;01mis\u001b[39;00m \u001b[38;5;129;01mnot\u001b[39;00m \u001b[38;5;28;01mNone\u001b[39;00m:\n\u001b[1;32m     70\u001b[0m     doc \u001b[38;5;241m=\u001b[39m accent_function(doc)\n",
      "\u001b[0;31mAttributeError\u001b[0m: 'list' object has no attribute 'lower'"
     ]
    }
   ],
   "source": [
    "#Load the model from pickle file\n",
    "with open('model_bio.pkl', 'rb') as f:\n",
    "    model = pickle.load(f)\n",
    "    \n",
    "#load vectorizer (from training vocab)\n",
    "with open('vectorizer_bio.pkl', 'rb') as f:\n",
    "    vectorizer = pickle.load(f)\n",
    "\n",
    "    \n",
    "# Loading the test data\n",
    "X_test = sequences \n",
    "y_test = labels\n",
    "\n",
    "#transform X_test learned vocabulary\n",
    "X_test_t = vectorizer.transform(X_test)\n",
    "\n",
    "#Performing prediction on test data (after tf-idf transformation)\n",
    "y_pred = model.predict(X_test_t)\n",
    "\n",
    "# Compute confusion matrix\n",
    "conf_mat = confusion_matrix(y_test, y_pred, normalize = 'true')\n",
    "\n",
    "# Visualizing the confusion matrix using a heatmap\n",
    "plt.figure(figsize=(10,7))\n",
    "sns.heatmap(conf_mat, annot=True, fmt= '.1%', cmap='Blues')\n",
    "plt.xlabel('Predicted Label')\n",
    "plt.ylabel('Actual Label')\n",
    "plt.title('Confusion Matrix for Genomics Data')\n",
    "plt.show()\n"
   ]
  },
  {
   "cell_type": "code",
   "execution_count": 21,
   "metadata": {},
   "outputs": [
    {
     "name": "stdout",
     "output_type": "stream",
     "text": [
      "Per Class Accuracy:\n",
      " [66.66666667 66.66666667 66.66666667  0.         66.66666667]\n"
     ]
    },
    {
     "data": {
      "image/png": "[encoded data removed]",
      "text/plain": [
       "<Figure size 1000x700 with 1 Axes>"
      ]
     },
     "metadata": {},
     "output_type": "display_data"
    }
   ],
   "source": [
    "# Compute per class accuracy\n",
    "class_accuracy = 100.0*conf_mat.diagonal()/conf_mat.sum(axis=1)\n",
    "print(\"Per Class Accuracy:\\n\", class_accuracy)\n",
    "\n",
    "\n",
    "# Visualizing the per class accuracy\n",
    "plt.figure(figsize=(10,7))\n",
    "plt.bar(range(len(class_accuracy)), class_accuracy)\n",
    "plt.xlabel('Label')\n",
    "plt.ylabel('Accuracy (%)')\n",
    "plt.title('Per Class Accuracy for Genomics Data')\n",
    "plt.show()\n"
   ]
  },
  {
   "cell_type": "code",
   "execution_count": 6,
   "metadata": {},
   "outputs": [
    {
     "name": "stdout",
     "output_type": "stream",
     "text": [
      "Overall Accuracy: 53.3%\n"
     ]
    }
   ],
   "source": [
    "\n",
    "#overall/global accuracy\n",
    "overall_accuracy = accuracy_score(y_test, y_pred)\n",
    "print(\"Overall Accuracy: {}%\".format(np.round(overall_accuracy*100,1)))\n"
   ]
  }
 ],
 "metadata": {
  "kernelspec": {
   "display_name": "Python 3 (ipykernel)",
   "language": "python",
   "name": "python3"
  },
  "language_info": {
   "codemirror_mode": {
    "name": "ipython",
    "version": 3
   },
   "file_extension": ".py",
   "mimetype": "text/x-python",
   "name": "python",
   "nbconvert_exporter": "python",
   "pygments_lexer": "ipython3",
   "version": "3.8.17"
  }
 },
 "nbformat": 4,
 "nbformat_minor": 2
}
