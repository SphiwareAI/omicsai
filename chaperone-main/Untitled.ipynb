{
 "cells": [
  {
   "cell_type": "code",
   "execution_count": 2,
   "id": "ca56a0fa",
   "metadata": {},
   "outputs": [],
   "source": [
    "import requests\n",
    "\n",
    "# List of enzyme classes\n",
    "enzyme_classes = ['ligases', 'lyases', 'hydrolases', 'isomerase', 'translocase', 'transferases', 'non enzyme', 'oxidoreductase']"
   ]
  },
  {
   "cell_type": "code",
   "execution_count": 6,
   "id": "b097753d",
   "metadata": {},
   "outputs": [
    {
     "name": "stdout",
     "output_type": "stream",
     "text": [
      "Sequences for enzyme class ligases downloaded successfully.\n"
     ]
    }
   ],
   "source": [
    "import requests\n",
    "\n",
    "enzyme_class = enzyme_classes[0]\n",
    "\n",
    "# URL for the UniProt API request\n",
    "url = \"https://rest.uniprot.org/uniprotkb/stream?compressed=true&format=fasta&query=accession%3AO95628%20OR%20accession%3AP03070%20OR%20accession%3AP03254%20OR%20accession%3AP03255%20OR%20accession%3AP03259%20OR%20accession%3AQ05128%20OR%20accession%3AQ8WQX6\"\n",
    "# Send the GET request to the UniProt API\n",
    "response = requests.get(url)\n",
    "\n",
    "# Check if the request was successful\n",
    "if response.status_code == 200:\n",
    "    # Save the protein sequences to a FASTA file\n",
    "    with open(f\"{enzyme_class}_sequences.fasta\", \"w\") as fasta_file:\n",
    "        fasta_file.write(response.text)\n",
    "    print(f\"Sequences for enzyme class {enzyme_class} downloaded successfully.\")\n",
    "else:\n",
    "    print(f\"Failed to download sequences for enzyme class {enzyme_class}.\")"
   ]
  },
  {
   "cell_type": "code",
   "execution_count": 5,
   "id": "4e7c1061",
   "metadata": {},
   "outputs": [
    {
     "name": "stdout",
     "output_type": "stream",
     "text": [
      "> \n",
      "\b\u0000\u0000\u0000\u0000\u0000\u0000\u0000MTËnÝ6\u0010Ýë+ô\tq\u0007îÂ\u0001\u0006âð\u0001!gJE«à\u0002¹E8N`;\u0005\f",
      "äã{ÔM+Ý\u0005yE\u000ey^óñåÇ/}÷ÛûÛÛ_|C_(ð»Û/Ïo3æóçï¯×§ùÝçß.Oóåëõéûß\u000fÏ?_æe~¹âóÛë|;ú|ÿþîýÝí¬|3Û¸¿¶KYrJ£8óFd\"¡Ia\u001e",
      "B¡ªZ¬êY a8)\u0007­Ì\u0013k%j°±\tÆ©\u0004\u0011ª¤É\u0014²XoÊç¯$\u001d",
      "¶i¡<Ê\u0014ÄÌ°ÜBàÀãp\f",
      "ÎrZº-ùÈ½WOACÙ\u0016åØº/iÚâ8\f",
      "åXÿ{©«÷®ëFJE0òsEç¥y°%XR«®rÉ:Ê¢eÕA£zo4x)\f",
      "\b55 ¶¬]»N\u001f!@»ÛÛç\u000f¿ü\u000f¿ù\"\\f¿>{xº<Î?\u001f¾¾=¾=¾>_^þ¼>_^®óÍ)\\\u001f^þ\"\u000fùõò|}zýþx¹2Ü~¸û}Nõ~íì7ÿÃÖ\u0003ÄÚ¯!y%³dLÕ¨\u001673`\u0003!à\u0019\u001baàÛuê½K\u0001_9\u0019%\"\u001e",
      "¤b¢ÐÚ©×¹Æb+çÅjOtÖÄ}:>6#\u0003Õ\u0014\u0014uÎ¹£>Ø±Â\u0018%më\u0007ä\u0006£ÉºÑ¯xR!¼\u0006\f",
      "¥Thp>öÙùÀ\u0010ÙU»D_Â¶H;°Ö\u000e¦I¸eér\u0004Ï\u001d",
      "Þ¥Û ^a±\u0007\u0018qí+Ù\u0018­íií%\u0012$k=\u0000#OP)wêÔ\u0005kúµÓ:bÉP&&ÔH@]Bô1Â\b,pïªñZ¡¾Áú\u0002ÃÀ\u0016K\u0015ÖbúÐRÖ\b-]<ÀÃ¹ËÁL½\u00013Ñ\b2@³\t$1\u0005ÒÆek\u0012Çe¥\u0014\u0002\u000eE\u0011$J¤ÀL6¡È\u0004 mì{íÞAÊ²y\f",
      "îP}\u0000°/*9B´\u0001ß!3ó\u00027\"i\u000b",
      "\u0011ö\u001d",
      "øJ¯Ïû\u001f\"uA\u000e\u0012\tX\u000b",
      "»­niÔj£¦C@7M¥m/Ç!#w¾\u001fcArB¤/u\u0004Ú\u000e¢m\u0004õÝ¹cÂÔ(ñ$\")Æã8`\u0018öQ3ì'\u0015\u0007\u0016w\\YÒ\u001e",
      "\u0006AÍ¡7i\u0006û¬åvÔINÁRk)H¶ä&0só®âé\biÛÀ\">êÝ:¹¶xÆQÁ86WI=oiøê\u00022 ØÑ\u0013\u0000\u000b",
      "pâÆyYFÄQ^O«!î5\u0011*1Ð\t`PÖ\u0015í\u0002û\u0014ycyg!¨\u0004ò\u001c",
      "­-9Ç>±\u0000¡(Ê\u0004äØµ¯\u0002ÙÇ^×ÜDà$«À$|\f",
      "ÑÞy¤ô\u0011­¤Ð[\u0004-iòèVz¦\u0003FI(\u00158Ó¿áåám«P\u0012EÐ\u0005UÐJ7_ÓaÓ\"¸ò>\b2êL\u0019í»\u000eöÔà@\u000e¼|á\u0006E=õ\\\f",
      "½Yy=ûÀA2\f",
      "¾0ª\u0002céIòFÓ§\u0000ì]\u0006\u0000\u0000\n",
      "\n"
     ]
    }
   ],
   "source": [
    "def read_fasta_file(file_path):\n",
    "    sequences = []\n",
    "    with open(file_path, \"r\") as fasta_file:\n",
    "        current_sequence = \"\"\n",
    "        header = \"\"\n",
    "        for line in fasta_file:\n",
    "            line = line.strip()\n",
    "            if line.startswith(\">\"):  # New sequence header\n",
    "                if current_sequence:\n",
    "                    sequences.append((header, current_sequence))\n",
    "                    current_sequence = \"\"\n",
    "                header = line[1:]  # Remove the \">\" symbol\n",
    "            else:\n",
    "                current_sequence += line\n",
    "        if current_sequence:  # Append the last sequence\n",
    "            sequences.append((header, current_sequence))\n",
    "    return sequences\n",
    "\n",
    "# Example usage:\n",
    "file_path = \"ligases_sequences.fasta\"\n",
    "sequences = read_fasta_file(file_path)\n",
    "for header, sequence in sequences:\n",
    "    print(f\"> {header}\\n{sequence}\\n\")"
   ]
  },
  {
   "cell_type": "code",
   "execution_count": null,
   "id": "5264dbb0",
   "metadata": {},
   "outputs": [],
   "source": []
  }
 ],
 "metadata": {
  "kernelspec": {
   "display_name": "Python 3 (ipykernel)",
   "language": "python",
   "name": "python3"
  },
  "language_info": {
   "codemirror_mode": {
    "name": "ipython",
    "version": 3
   },
   "file_extension": ".py",
   "mimetype": "text/x-python",
   "name": "python",
   "nbconvert_exporter": "python",
   "pygments_lexer": "ipython3",
   "version": "3.8.17"
  }
 },
 "nbformat": 4,
 "nbformat_minor": 5
}
