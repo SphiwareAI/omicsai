{
 "cells": [
  {
   "cell_type": "code",
   "execution_count": 1,
   "id": "cc4ed57c",
   "metadata": {},
   "outputs": [
    {
     "name": "stderr",
     "output_type": "stream",
     "text": [
      "/home/kafka/.local/lib/python3.10/site-packages/Bio/Entrez/__init__.py:694: UserWarning: \n",
      "            Email address is not specified.\n",
      "\n",
      "            To make use of NCBI's E-utilities, NCBI requires you to specify your\n",
      "            email address with each request.  As an example, if your email address\n",
      "            is A.N.Other@example.com, you can specify it as follows:\n",
      "               from Bio import Entrez\n",
      "               Entrez.email = 'A.N.Other@example.com'\n",
      "            In case of excessive usage of the E-utilities, NCBI will attempt to contact\n",
      "            a user at the email address provided before blocking access to the\n",
      "            E-utilities.\n",
      "  warnings.warn(\n"
     ]
    }
   ],
   "source": [
    "from Bio import Entrez\n",
    "def singleEntry(singleID):   #the singleID is the accession number\n",
    "    handle = Entrez.efetch(db='nucleotide',id=singleID, rettype = 'fasta', retmode= 'text')\n",
    "    f = open('%s.fasta' % singleID, 'w')\n",
    "    f.write(handle.read())\n",
    "    handle.close()\n",
    "    f.close()\n",
    "\n",
    "#db: nucleotide\n",
    "#db: \n",
    "#get an id list: this makes a big search and gets a list of id \n",
    "\n",
    "handle = Entrez.esearch(db='nucleotide', term = [\"Poaceae[Orgn] AND als[Gene]\"])\n",
    "record = Entrez.read(handle)\n",
    "\n",
    "Accession_List = record[\"IdList\"]"
   ]
  },
  {
   "cell_type": "code",
   "execution_count": 2,
   "id": "5e08fe7d",
   "metadata": {},
   "outputs": [
    {
     "name": "stdout",
     "output_type": "stream",
     "text": [
      "Parsing...\n"
     ]
    }
   ],
   "source": [
    "import os\n",
    "from Bio import SeqIO\n",
    "from Bio import Entrez\n",
    "\n",
    "Entrez.email = \"james.mashiyane.za@com\"  # Always tell NCBI who you are\n",
    "filename = \"Huge.fasta\"\n",
    "if not os.path.isfile(filename):\n",
    "    # Downloading...\n",
    "    net_handle = Entrez.efetch(\n",
    "        db=\"nucleotide\", id=Accession_List, rettype=\"fasta\", retmode=\"text\"\n",
    "    )\n",
    "    out_handle = open(filename, \"w\")\n",
    "    out_handle.write(net_handle.read())\n",
    "    out_handle.close()\n",
    "    net_handle.close()\n",
    "    print(\"Saved\")\n",
    "\n",
    "print(\"Parsing...\")\n",
    "#record = SeqIO.read(filename, \"fasta\")\n",
    "#print(record)"
   ]
  },
  {
   "cell_type": "code",
   "execution_count": 11,
   "id": "2c17dae2",
   "metadata": {},
   "outputs": [
    {
     "data": {
      "text/plain": [
       "<http.client.HTTPResponse at 0x7f73142f1090>"
      ]
     },
     "execution_count": 11,
     "metadata": {},
     "output_type": "execute_result"
    }
   ],
   "source": [
    "Entrez.einfo()"
   ]
  },
  {
   "cell_type": "code",
   "execution_count": null,
   "id": "075b7065",
   "metadata": {},
   "outputs": [],
   "source": []
  }
 ],
 "metadata": {
  "kernelspec": {
   "display_name": "Python 3 (ipykernel)",
   "language": "python",
   "name": "python3"
  },
  "language_info": {
   "codemirror_mode": {
    "name": "ipython",
    "version": 3
   },
   "file_extension": ".py",
   "mimetype": "text/x-python",
   "name": "python",
   "nbconvert_exporter": "python",
   "pygments_lexer": "ipython3",
   "version": "3.10.6"
  }
 },
 "nbformat": 4,
 "nbformat_minor": 5
}
